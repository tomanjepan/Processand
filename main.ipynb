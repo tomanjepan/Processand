{
 "cells": [
  {
   "cell_type": "code",
   "execution_count": null,
   "metadata": {},
   "outputs": [],
   "source": [
    "import pandas as pd"
   ]
  },
  {
   "cell_type": "code",
   "execution_count": null,
   "metadata": {},
   "outputs": [],
   "source": [
    "df_CDHDR = pd.read_csv('B:/Programming/Processand/Data/CDHDR.csv')\n",
    "df_CDHDR.head(n=5)"
   ]
  },
  {
   "cell_type": "code",
   "execution_count": null,
   "metadata": {},
   "outputs": [],
   "source": [
    "df_CDPOS = pd.read_csv('B:/Programming/Processand/Data/CDPOS.csv')\n",
    "df_CDPOS.head(n=5)"
   ]
  },
  {
   "cell_type": "code",
   "execution_count": null,
   "metadata": {},
   "outputs": [],
   "source": [
    "df_EKKO = pd.read_csv('B:/Programming/Processand/Data/EKKO.csv')\n",
    "df_EKKO.head(n=5)"
   ]
  },
  {
   "cell_type": "code",
   "execution_count": null,
   "metadata": {},
   "outputs": [],
   "source": [
    "df_EKPO = pd.read_csv('B:/Programming/Processand/Data/EKPO.csv')\n",
    "df_EKPO.head(n=5)"
   ]
  },
  {
   "cell_type": "code",
   "execution_count": null,
   "metadata": {},
   "outputs": [],
   "source": [
    "combine_calc_data = pd.merge(df_EKPO, df_EKKO, on='EBELN')\n",
    "combine_calc_data.head(n=5)"
   ]
  },
  {
   "cell_type": "code",
   "execution_count": null,
   "metadata": {},
   "outputs": [],
   "source": [
    "combine_calc_data['NETWR'] = combine_calc_data['NETWR'].astype(float)\n",
    "combine_calc_data['MENGE'] = combine_calc_data['MENGE'].astype(float)\n",
    "\n",
    "combine_calc_data['Total_NOV'] = (combine_calc_data['NETWR'] * combine_calc_data['MENGE'])\n",
    "\n",
    "combine_calc_data.head(n=5)"
   ]
  },
  {
   "cell_type": "code",
   "execution_count": null,
   "metadata": {},
   "outputs": [],
   "source": [
    "TotalNOV = pd.DataFrame(combine_calc_data.groupby('EBELN')['Total_NOV'].sum())\n",
    "TotalNOV.head(n=5)"
   ]
  }
 ],
 "metadata": {
  "kernelspec": {
   "display_name": "Python 3.10.8 ('.venv_processand': venv)",
   "language": "python",
   "name": "python3"
  },
  "language_info": {
   "codemirror_mode": {
    "name": "ipython",
    "version": 3
   },
   "file_extension": ".py",
   "mimetype": "text/x-python",
   "name": "python",
   "nbconvert_exporter": "python",
   "pygments_lexer": "ipython3",
   "version": "3.10.8"
  },
  "orig_nbformat": 4,
  "vscode": {
   "interpreter": {
    "hash": "f90b44fd9f66fd49a5e1bcf85d16627628528f4b093658bc6b9e6b650d455d2f"
   }
  }
 },
 "nbformat": 4,
 "nbformat_minor": 2
}
